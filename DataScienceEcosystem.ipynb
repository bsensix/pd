{
 "cells": [
  {
   "cell_type": "markdown",
   "metadata": {},
   "source": [
    "# Data Science Tools and Ecosystem"
   ]
  },
  {
   "cell_type": "markdown",
   "metadata": {},
   "source": [
    "In this notebook, the data science tools and ecosystem are summarized according to what was studied during the course."
   ]
  },
  {
   "cell_type": "markdown",
   "metadata": {},
   "source": [
    "Some of the popular languages that Data Scientists use are:\n",
    "- Python\n",
    "- R\n",
    "- Julia \n",
    "- Scala"
   ]
  },
  {
   "cell_type": "markdown",
   "metadata": {},
   "source": [
    "Some of the commonly used libraries used by Data Scientists include:\n",
    "- NumPy\n",
    "- Keras\n",
    "- Pandas\n",
    "- PyTorch\n",
    "- SciPy\n",
    "- Scikit-Learn\n",
    "- TensorFlow\n",
    "- readr\n",
    "- stringr\n",
    "- ggplot2\n",
    "- lubridate\n",
    "- jsonlite\n",
    "- Shiny"
   ]
  },
  {
   "cell_type": "markdown",
   "metadata": {},
   "source": [
    "Data Science Tools\n",
    "| Open Source Tool | Description |\n",
    "|------------------|-------------|\n",
    "| Python | Widely used programming language in data science. |\n",
    "| Jupyter Notebook | Interactive environment for code execution, visualization, and documentation. |\n",
    "| Pandas | Python library for data manipulation and analysis. |\n",
    "| R | Statistical programming language widely used in data science. |\n",
    "| NumPy | Python library for numerical computation, especially efficient for multidimensional array manipulation. |\n",
    "| TensorFlow | Open-source library for machine learning and artificial intelligence developed by Google. |\n",
    "| Scikit-learn | Python library for machine learning and data mining. |\n",
    "| Matplotlib | Python library for data visualization in static, interactive, or animated graphics. |\n",
    "| SciPy | Set of Python libraries for mathematics, science, and engineering, including modules for optimization, linear algebra, integration, and interpolation. |\n",
    "| Apache Spark | Open-source cluster computing platform, widely used for large-scale data processing. |\n",
    "| PyTorch | Open-source machine learning library for Python, developed by Facebook. |\n",
    "| Seaborn | Python library for data visualization based on Matplotlib, but with a more user-friendly high-level interface. |\n"
   ]
  },
  {
   "cell_type": "markdown",
   "metadata": {},
   "source": [
    "### Below are a few examples of evaluating arithmetic expressions in Python.\n",
    "\n",
    "\n",
    "In the code cells below, you'll find examples of types of arithmetic expressions in Python. Arithmetic expressions are used to perform simple or complex mathematical operations. They may include operators such as addition (+), subtraction (-), multiplication (*), division (/), among others. Let's explore some types of expressions:\n",
    "\n",
    "1. **Addition and Subtraction**\n",
    "2. **Multiplication and Division**\n",
    "3. **Operations with Parentheses**\n",
    "\n",
    "\n",
    "\n"
   ]
  },
  {
   "cell_type": "code",
   "execution_count": 1,
   "metadata": {},
   "outputs": [
    {
     "name": "stdout",
     "output_type": "stream",
     "text": [
      "17\n"
     ]
    }
   ],
   "source": [
    "# This is a simple arithmetic expression to multiply then add integers.\n",
    "expression_result = (3 * 4) + 5\n",
    "print(expression_result)\n"
   ]
  },
  {
   "cell_type": "code",
   "execution_count": 2,
   "metadata": {},
   "outputs": [
    {
     "name": "stdout",
     "output_type": "stream",
     "text": [
      "3.3333333333333335\n"
     ]
    }
   ],
   "source": [
    "# This will convert 200 minutes to hours by dividing by 60.\n",
    "hours = 200 / 60\n",
    "print(hours)\n"
   ]
  },
  {
   "cell_type": "markdown",
   "metadata": {},
   "source": [
    "**Objectives:**\n",
    "\n",
    "- List popular languages for Data Science.\n",
    "- Introduce examples of arithmetic expressions.\n",
    "- Demonstrate conversion of minutes to hours.\n"
   ]
  },
  {
   "cell_type": "markdown",
   "metadata": {},
   "source": [
    "## Author\n",
    "\n",
    "Breno Nunes\n"
   ]
  }
 ],
 "metadata": {
  "kernelspec": {
   "display_name": "base",
   "language": "python",
   "name": "python3"
  },
  "language_info": {
   "codemirror_mode": {
    "name": "ipython",
    "version": 3
   },
   "file_extension": ".py",
   "mimetype": "text/x-python",
   "name": "python",
   "nbconvert_exporter": "python",
   "pygments_lexer": "ipython3",
   "version": "3.11.4"
  }
 },
 "nbformat": 4,
 "nbformat_minor": 2
}
